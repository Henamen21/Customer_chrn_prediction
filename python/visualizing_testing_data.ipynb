{
 "cells": [
  {
   "cell_type": "markdown",
   "id": "f1df6169",
   "metadata": {},
   "source": [
    "#                           Machine Learning Churn prediction "
   ]
  },
  {
   "cell_type": "markdown",
   "id": "dae50588",
   "metadata": {},
   "source": [
    "## 1. Hypothesis"
   ]
  },
  {
   "cell_type": "markdown",
   "id": "fc3ae9bb",
   "metadata": {},
   "source": [
    "Null Hypothesis : There is no significate effect of being senior citizen for a company to have more churn customers\n",
    "\n",
    "Alternative Hypothesis : There is significate effect of being senior citizen for a company to have more churn customers"
   ]
  },
  {
   "cell_type": "code",
   "execution_count": 12,
   "id": "8adb042b",
   "metadata": {},
   "outputs": [],
   "source": [
    "import scipy.stats as stats\n",
    "import pandas as pd\n",
    "import matplotlib.pyplot as plt\n",
    "import seaborn as sns"
   ]
  },
  {
   "cell_type": "code",
   "execution_count": 4,
   "id": "7868002f",
   "metadata": {},
   "outputs": [],
   "source": [
    "test = pd.read_csv(\"C:/Users/hp/Documents/Azubi_2/project_2/Customer_chrn_prediction/data/testing_data.csv\")"
   ]
  },
  {
   "cell_type": "code",
   "execution_count": 5,
   "id": "fabe7528",
   "metadata": {},
   "outputs": [
    {
     "data": {
      "text/plain": [
       "0        No\n",
       "1        No\n",
       "2        No\n",
       "3        No\n",
       "4        No\n",
       "       ... \n",
       "5038     No\n",
       "5039     No\n",
       "5040     No\n",
       "5041    Yes\n",
       "5042     No\n",
       "Name: SeniorCitizen, Length: 5043, dtype: object"
      ]
     },
     "execution_count": 5,
     "metadata": {},
     "output_type": "execute_result"
    }
   ],
   "source": [
    "test.SeniorCitizen"
   ]
  },
  {
   "cell_type": "code",
   "execution_count": 6,
   "id": "877cc06b",
   "metadata": {},
   "outputs": [],
   "source": [
    "citizen = test.SeniorCitizen"
   ]
  },
  {
   "cell_type": "code",
   "execution_count": 7,
   "id": "db992c90",
   "metadata": {},
   "outputs": [],
   "source": [
    "citizen = citizen.apply(lambda x: str(x).replace(\"No\", \"0\"))\n",
    "citizen = citizen.apply(lambda x: str(x).replace(\"Yes\", \"1\"))"
   ]
  },
  {
   "cell_type": "code",
   "execution_count": 18,
   "id": "0832bd35",
   "metadata": {},
   "outputs": [],
   "source": [
    "citizen = citizen.astype(int)"
   ]
  },
  {
   "cell_type": "code",
   "execution_count": 19,
   "id": "b068cc6b",
   "metadata": {},
   "outputs": [
    {
     "name": "stdout",
     "output_type": "stream",
     "text": [
      "ShapiroResult(statistic=0.5507321357727051, pvalue=0.0)\n"
     ]
    }
   ],
   "source": [
    "print(stats.shapiro(churn))"
   ]
  },
  {
   "cell_type": "code",
   "execution_count": 9,
   "id": "80c59664",
   "metadata": {},
   "outputs": [],
   "source": [
    "churn = test.Churn"
   ]
  },
  {
   "cell_type": "code",
   "execution_count": 10,
   "id": "11d17c54",
   "metadata": {},
   "outputs": [],
   "source": [
    "churn = churn.apply(lambda x: str(x).replace(\"No\", \"0\"))\n",
    "churn = churn.apply(lambda x: str(x).replace(\"Yes\", \"1\"))"
   ]
  },
  {
   "cell_type": "code",
   "execution_count": 16,
   "id": "d4b4904e",
   "metadata": {},
   "outputs": [],
   "source": [
    "churn = churn.astype(int)"
   ]
  },
  {
   "cell_type": "code",
   "execution_count": 17,
   "id": "ae740506",
   "metadata": {},
   "outputs": [
    {
     "name": "stdout",
     "output_type": "stream",
     "text": [
      "ShapiroResult(statistic=0.5507321357727051, pvalue=0.0)\n"
     ]
    },
    {
     "name": "stderr",
     "output_type": "stream",
     "text": [
      "C:\\ProgramData\\Anaconda3\\lib\\site-packages\\scipy\\stats\\_morestats.py:1800: UserWarning: p-value may not be accurate for N > 5000.\n",
      "  warnings.warn(\"p-value may not be accurate for N > 5000.\")\n"
     ]
    }
   ],
   "source": [
    "print(stats.shapiro(churn))"
   ]
  },
  {
   "cell_type": "code",
   "execution_count": 20,
   "id": "816289dc",
   "metadata": {},
   "outputs": [
    {
     "name": "stdout",
     "output_type": "stream",
     "text": [
      "LeveneResult(statistic=160.20801906037184, pvalue=1.927831898987456e-36)\n"
     ]
    }
   ],
   "source": [
    "print(stats.levene(churn, citizen))"
   ]
  },
  {
   "cell_type": "code",
   "execution_count": 21,
   "id": "dedf69a0",
   "metadata": {},
   "outputs": [
    {
     "name": "stdout",
     "output_type": "stream",
     "text": [
      "-12.65733064513888 1.927831899002937e-36\n"
     ]
    }
   ],
   "source": [
    "t_stat, p_value = stats.ttest_ind(citizen, churn) #two sample t-test\n",
    "print(t_stat, p_value)"
   ]
  },
  {
   "cell_type": "code",
   "execution_count": 25,
   "id": "aec3553a",
   "metadata": {},
   "outputs": [
    {
     "name": "stdout",
     "output_type": "stream",
     "text": [
      "Reject HYpothesis\n"
     ]
    }
   ],
   "source": [
    "alpha = 0.05\n",
    "if p_value < alpha:\n",
    "    print(\"Reject HYpothesis\")\n",
    "else:\n",
    "    print(\"Fail to reject Null Hypothesis\")"
   ]
  },
  {
   "cell_type": "markdown",
   "id": "8ced091c",
   "metadata": {},
   "source": [
    "## According to our result we can conclude that there is an effect on being a senior citizen customer or not for the company to loose its users. We recommend the organization to look for senior citiznes to be its users."
   ]
  },
  {
   "cell_type": "code",
   "execution_count": 58,
   "id": "afa32228",
   "metadata": {},
   "outputs": [],
   "source": [
    "seniorcitizen = test[test.SeniorCitizen == \"Yes\"]\n",
    "leave_senior = seniorcitizen[seniorcitizen.Churn == \"Yes\"][\"Churn\"].count()\n"
   ]
  },
  {
   "cell_type": "code",
   "execution_count": 71,
   "id": "36309df7",
   "metadata": {},
   "outputs": [],
   "source": [
    "not_seniorcitizen = test[test.SeniorCitizen == \"No\"]\n",
    "not_seniorcitizen = not_seniorcitizen[not_seniorcitizen.Churn == \"Yes\"][\"Churn\"].count()"
   ]
  },
  {
   "cell_type": "code",
   "execution_count": 74,
   "id": "84d8adf2",
   "metadata": {},
   "outputs": [],
   "source": [
    "list_citizen = [\"Senior\", \"Not Senior\"]\n",
    "list_num = [leave_senior, not_seniorcitizen]"
   ]
  },
  {
   "cell_type": "code",
   "execution_count": 78,
   "id": "a3567a90",
   "metadata": {},
   "outputs": [
    {
     "data": {
      "image/png": "[encoded data removed]",
      "text/plain": [
       "<Figure size 640x480 with 1 Axes>"
      ]
     },
     "metadata": {},
     "output_type": "display_data"
    }
   ],
   "source": [
    "sns.barplot(x = list_num, y= list_citizen )\n",
    "\n",
    "# Show plot\n",
    "\n",
    "plt.title(\"Number of customers leaves the company\")\n",
    "plt.xlabel(\"Amount\")\n",
    "plt.ylabel(\"Citizenship\")\n",
    "plt.show()"
   ]
  },
  {
   "cell_type": "code",
   "execution_count": 44,
   "id": "d9fabcae",
   "metadata": {},
   "outputs": [
    {
     "data": {
      "text/plain": [
       "Index(['Column1', 'customerID', 'gender', 'SeniorCitizen', 'Partner',\n",
       "       'Dependents', 'tenure', 'PhoneService', 'MultipleLines',\n",
       "       'InternetService', 'OnlineSecurity', 'OnlineBackup', 'DeviceProtection',\n",
       "       'TechSupport', 'StreamingTV', 'StreamingMovies', 'Contract',\n",
       "       'PaperlessBilling', 'PaymentMethod', 'MonthlyCharges', 'TotalCharges',\n",
       "       'Churn'],\n",
       "      dtype='object')"
      ]
     },
     "execution_count": 44,
     "metadata": {},
     "output_type": "execute_result"
    }
   ],
   "source": [
    "test.columns"
   ]
  },
  {
   "cell_type": "markdown",
   "id": "2fad3018",
   "metadata": {},
   "source": [
    "## 1. How gender is distributed ?"
   ]
  },
  {
   "cell_type": "code",
   "execution_count": 45,
   "id": "812bcf68",
   "metadata": {},
   "outputs": [
    {
     "data": {
      "image/png": "[encoded data removed]",
      "text/plain": [
       "<Figure size 640x480 with 1 Axes>"
      ]
     },
     "metadata": {},
     "output_type": "display_data"
    }
   ],
   "source": [
    "male = ( test[\"gender\"] == \"Male\" ).sum()\n",
    "female = ( test[\"gender\"] == \"Female\" ).sum()\n",
    "\n",
    "data = [male, female]\n",
    "labels = ['Male', \"Female\"]\n",
    "\n",
    "#define Seaborn color palette to use\n",
    "colors = sns.color_palette('pastel')[0:5]\n",
    "\n",
    "#create pie chart\n",
    "plt.pie(data, labels = labels, colors = colors, autopct='%.0f%%')\n",
    "plt.show()"
   ]
  },
  {
   "cell_type": "markdown",
   "id": "72a99769",
   "metadata": {},
   "source": [
    "The gender distribution has no a big differnce, The data is a balanced with gender"
   ]
  },
  {
   "cell_type": "markdown",
   "id": "9de423ca",
   "metadata": {},
   "source": [
    "## 2. How many customers are senior citizen ?"
   ]
  },
  {
   "cell_type": "code",
   "execution_count": 46,
   "id": "d4804ad0",
   "metadata": {},
   "outputs": [
    {
     "data": {
      "text/plain": [
       "array(['No', 'Yes'], dtype=object)"
      ]
     },
     "execution_count": 46,
     "metadata": {},
     "output_type": "execute_result"
    }
   ],
   "source": [
    "test.SeniorCitizen.unique()"
   ]
  },
  {
   "cell_type": "code",
   "execution_count": 49,
   "id": "49a104d2",
   "metadata": {},
   "outputs": [
    {
     "data": {
      "text/plain": [
       "5043"
      ]
     },
     "execution_count": 49,
     "metadata": {},
     "output_type": "execute_result"
    }
   ],
   "source": [
    "test.SeniorCitizen.count()"
   ]
  },
  {
   "cell_type": "code",
   "execution_count": 62,
   "id": "a8383f82",
   "metadata": {},
   "outputs": [
    {
     "data": {
      "image/png": "[encoded data removed]",
      "text/plain": [
       "<Figure size 640x480 with 1 Axes>"
      ]
     },
     "metadata": {},
     "output_type": "display_data"
    }
   ],
   "source": [
    "sns.countplot(x=\"SeniorCitizen\", data=test)\n",
    "\n",
    "plt.style.use(\"fivethirtyeight\")\n",
    "\n",
    "plt.show()\n"
   ]
  },
  {
   "cell_type": "markdown",
   "id": "391b75fb",
   "metadata": {},
   "source": [
    "More than 4000 customers are not senior Citizens and 800 are seniors. This shows a high variance."
   ]
  },
  {
   "cell_type": "code",
   "execution_count": 63,
   "id": "a995b28c",
   "metadata": {},
   "outputs": [
    {
     "data": {
      "text/plain": [
       "Index(['Column1', 'customerID', 'gender', 'SeniorCitizen', 'Partner',\n",
       "       'Dependents', 'tenure', 'PhoneService', 'MultipleLines',\n",
       "       'InternetService', 'OnlineSecurity', 'OnlineBackup', 'DeviceProtection',\n",
       "       'TechSupport', 'StreamingTV', 'StreamingMovies', 'Contract',\n",
       "       'PaperlessBilling', 'PaymentMethod', 'MonthlyCharges', 'TotalCharges',\n",
       "       'Churn'],\n",
       "      dtype='object')"
      ]
     },
     "execution_count": 63,
     "metadata": {},
     "output_type": "execute_result"
    }
   ],
   "source": [
    "test.columns"
   ]
  },
  {
   "cell_type": "markdown",
   "id": "7c428667",
   "metadata": {},
   "source": [
    "## 3. How many customers are using different types of services from the company ?"
   ]
  },
  {
   "cell_type": "code",
   "execution_count": 103,
   "id": "2d4f553a",
   "metadata": {},
   "outputs": [],
   "source": [
    "MultipleLines = ( test[\"MultipleLines\"] == \"Yes\" ).sum()\n",
    "TechSupport = ( test[\"TechSupport\"] == \"Yes\" ).sum()\n",
    "OnlineSecurity = ( test[\"OnlineSecurity\"] == \"Yes\" ).sum()\n",
    "DeviceProtection = ( test[\"DeviceProtection\"] == \"Yes\" ).sum()\n",
    "OnlineBackup = ( test[\"OnlineBackup\"] == \"Yes\" ).sum()\n",
    "StreamingTV = ( test[\"StreamingTV\"] == \"Yes\" ).sum()\n",
    "Churn = ( test[\"Churn\"] == \"Yes\" ).sum()"
   ]
  },
  {
   "cell_type": "code",
   "execution_count": 104,
   "id": "c4700674",
   "metadata": {},
   "outputs": [
    {
     "data": {
      "text/plain": [
       "1732"
      ]
     },
     "execution_count": 104,
     "metadata": {},
     "output_type": "execute_result"
    }
   ],
   "source": [
    "OnlineBackup"
   ]
  },
  {
   "cell_type": "code",
   "execution_count": 105,
   "id": "0ee12e2b",
   "metadata": {},
   "outputs": [],
   "source": [
    "list_item = [\"MultipleLines\", \"TechSupport\", \"OnlineSecurity\", \"DeviceProtection\", \"OnlineBackup\", \"StreamingTV\", \"Churn\"]"
   ]
  },
  {
   "cell_type": "code",
   "execution_count": 106,
   "id": "e27b999e",
   "metadata": {},
   "outputs": [],
   "source": [
    "list_num = [MultipleLines, TechSupport, OnlineSecurity, DeviceProtection, OnlineBackup, StreamingTV, Churn]"
   ]
  },
  {
   "cell_type": "code",
   "execution_count": 107,
   "id": "b890eb49",
   "metadata": {
    "collapsed": true
   },
   "outputs": [
    {
     "data": {
      "text/plain": [
       "['MultipleLines',\n",
       " 'TechSupport',\n",
       " 'OnlineSecurity',\n",
       " 'DeviceProtection',\n",
       " 'OnlineBackup',\n",
       " 'StreamingTV',\n",
       " 'Churn']"
      ]
     },
     "execution_count": 107,
     "metadata": {},
     "output_type": "execute_result"
    }
   ],
   "source": [
    "list_item"
   ]
  },
  {
   "cell_type": "code",
   "execution_count": 108,
   "id": "b85917e4",
   "metadata": {
    "collapsed": true
   },
   "outputs": [
    {
     "data": {
      "text/plain": [
       "0        No\n",
       "1        No\n",
       "2        No\n",
       "3        No\n",
       "4        No\n",
       "       ... \n",
       "5038    Yes\n",
       "5039    Yes\n",
       "5040     No\n",
       "5041     No\n",
       "5042    Yes\n",
       "Name: StreamingTV, Length: 5043, dtype: object"
      ]
     },
     "execution_count": 108,
     "metadata": {},
     "output_type": "execute_result"
    }
   ],
   "source": [
    "test.StreamingTV"
   ]
  },
  {
   "cell_type": "code",
   "execution_count": 109,
   "id": "d4fb3219",
   "metadata": {},
   "outputs": [
    {
     "data": {
      "image/png": "[encoded data removed]",
      "text/plain": [
       "<Figure size 640x480 with 1 Axes>"
      ]
     },
     "metadata": {},
     "output_type": "display_data"
    }
   ],
   "source": [
    "sns.barplot(x = list_num, y= list_item)\n",
    "\n",
    "# Show plot\n",
    "plt.show()\n"
   ]
  },
  {
   "cell_type": "markdown",
   "id": "ef9bc1d8",
   "metadata": {},
   "source": [
    "## 4. How many customers churn from the company ?"
   ]
  },
  {
   "cell_type": "code",
   "execution_count": 79,
   "id": "d78ea0b9",
   "metadata": {},
   "outputs": [
    {
     "data": {
      "image/png": "[encoded data removed]",
      "text/plain": [
       "<Figure size 640x480 with 1 Axes>"
      ]
     },
     "metadata": {},
     "output_type": "display_data"
    }
   ],
   "source": [
    "Stay = ( test[\"Churn\"] == \"Yes\" ).sum()\n",
    "Leave = ( test[\"Churn\"] == \"No\" ).sum()\n",
    "\n",
    "data = [Stay, Leave]\n",
    "labels = ['Stay', \"Leave\"]\n",
    "\n",
    "#define Seaborn color palette to use\n",
    "colors = sns.color_palette('pastel')[0:5]\n",
    "\n",
    "#create pie chart\n",
    "plt.pie(data, labels = labels, colors = colors, autopct='%.0f%%')\n",
    "plt.title(\"Percentage of Customers in company\")\n",
    "plt.show()"
   ]
  },
  {
   "cell_type": "markdown",
   "id": "74e2ea82",
   "metadata": {},
   "source": [
    "The company's data shows that 75% of customers are leavning. More than half percent of them have not internet service, techsupport and other benefits from the organization"
   ]
  },
  {
   "cell_type": "markdown",
   "id": "0eed8816",
   "metadata": {},
   "source": [
    "## 5. What is Average Month charges ?\n"
   ]
  },
  {
   "cell_type": "code",
   "execution_count": 114,
   "id": "b200ce43",
   "metadata": {},
   "outputs": [
    {
     "name": "stdout",
     "output_type": "stream",
     "text": [
      "Averge monthly charge is :  65.09\n"
     ]
    }
   ],
   "source": [
    "mean  = test[\"MonthlyCharges\"].mean()\n",
    "print(\"Averge monthly charge is : \", round(mean,2))"
   ]
  },
  {
   "cell_type": "markdown",
   "id": "a570771b",
   "metadata": {},
   "source": [
    "## 6. What is total charge the company gained ?"
   ]
  },
  {
   "cell_type": "code",
   "execution_count": 124,
   "id": "1a1fdd50",
   "metadata": {},
   "outputs": [],
   "source": [
    "#test.TotalCharges = test.TotalCharges.apply(lambda x : x.replace(\"\",\"0\"))\n",
    "#test.TotalCharges = test.TotalCharges.apply(lambda x : x.replace('0 0',\"0\"))\n",
    "\n",
    "\n",
    "test.TotalCharges =  test.TotalCharges.astype(float)"
   ]
  },
  {
   "cell_type": "code",
   "execution_count": 126,
   "id": "0615fcdb",
   "metadata": {},
   "outputs": [
    {
     "name": "stdout",
     "output_type": "stream",
     "text": [
      "Averge Total charge is :  1080825257155.01\n"
     ]
    }
   ],
   "source": [
    "total  = test[\"TotalCharges\"].mean()\n",
    "print(\"Averge Total charge is : \", round(total,2))"
   ]
  },
  {
   "cell_type": "code",
   "execution_count": 128,
   "id": "23dd3453",
   "metadata": {
    "collapsed": true
   },
   "outputs": [
    {
     "data": {
      "text/plain": [
       "0               DSL\n",
       "1               DSL\n",
       "2               DSL\n",
       "3               DSL\n",
       "4       Fiber optic\n",
       "           ...     \n",
       "5038            DSL\n",
       "5039    Fiber optic\n",
       "5040            DSL\n",
       "5041    Fiber optic\n",
       "5042    Fiber optic\n",
       "Name: InternetService, Length: 5043, dtype: object"
      ]
     },
     "execution_count": 128,
     "metadata": {},
     "output_type": "execute_result"
    }
   ],
   "source": [
    "test.InternetService"
   ]
  },
  {
   "cell_type": "markdown",
   "id": "b9ca0408",
   "metadata": {},
   "source": [
    "## 7. What type of Internet service is used by customers ?"
   ]
  },
  {
   "cell_type": "code",
   "execution_count": 83,
   "id": "364e5f85",
   "metadata": {},
   "outputs": [
    {
     "data": {
      "image/png": "[encoded data removed]",
      "text/plain": [
       "<Figure size 640x480 with 1 Axes>"
      ]
     },
     "metadata": {},
     "output_type": "display_data"
    }
   ],
   "source": [
    "sns.countplot(x=\"InternetService\", data=test)\n",
    "\n",
    "plt.style.use(\"fivethirtyeight\")\n",
    "\n",
    "plt.title(\"Internet Service Type\")\n",
    "plt.xlabel(\"Service type\")\n",
    "plt.ylabel(\"Amount\")\n",
    "plt.show()\n"
   ]
  },
  {
   "cell_type": "code",
   "execution_count": null,
   "id": "4da2741c",
   "metadata": {},
   "outputs": [],
   "source": []
  },
  {
   "cell_type": "code",
   "execution_count": null,
   "id": "f86011db",
   "metadata": {},
   "outputs": [],
   "source": []
  },
  {
   "cell_type": "code",
   "execution_count": null,
   "id": "27971150",
   "metadata": {},
   "outputs": [],
   "source": []
  },
  {
   "cell_type": "code",
   "execution_count": null,
   "id": "5aa09cd7",
   "metadata": {},
   "outputs": [],
   "source": []
  }
 ],
 "metadata": {
  "kernelspec": {
   "display_name": "Python 3 (ipykernel)",
   "language": "python",
   "name": "python3"
  },
  "language_info": {
   "codemirror_mode": {
    "name": "ipython",
    "version": 3
   },
   "file_extension": ".py",
   "mimetype": "text/x-python",
   "name": "python",
   "nbconvert_exporter": "python",
   "pygments_lexer": "ipython3",
   "version": "3.9.13"
  }
 },
 "nbformat": 4,
 "nbformat_minor": 5
}
