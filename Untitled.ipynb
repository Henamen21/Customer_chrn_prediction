{
 "cells": [
  {
   "cell_type": "code",
   "execution_count": null,
   "id": "6248afb5",
   "metadata": {},
   "outputs": [],
   "source": [
    "model_params = {\n",
    "    \n",
    "    \"svm\" : {\n",
    "        \"model\" : svm.SVC(gamma=\"auto\"),\n",
    "        \"params\" : {\n",
    "            \"C\" : [200 , 300, 400],\n",
    "            \"kernel\" : [\"linear\", \"rbf\"]\n",
    "        }\n",
    "    },\n",
    "    \"random_forest\" : {\n",
    "        \"model\" : RandomForestClassifier(),\n",
    "        \"params\" : {\n",
    "            \"n_estimators\" : [200 , 300 , 400 ]\n",
    "        }\n",
    "    },\n",
    "    \"logistic_regression\" : {\n",
    "        \"model\" : LogisticRegression(solver=\"liblinear\" , multi_class=\"auto\"),\n",
    "        \"params\" : {\n",
    "            \"C\" : [200, 300 , 400]\n",
    "        }\n",
    "    },\n",
    "    \"decision_tree\" : {\n",
    "        \"model\" : DecisionTreeClassifier(),\n",
    "        \"params\" : {\n",
    "            \"criterion\" : [\"gini\" , \"entropy\"],\n",
    "            \"splitter\" : [\"best\" , \"random\"]\n",
    "        }\n",
    "    },\n",
    "    \"knn classifier\" : {\n",
    "        \"model\" : KNeighborsClassifier(),\n",
    "        \"params\" : {\n",
    "            \"n_neighbors\": [5 , 10 , 20],\n",
    "            \"weights\" : [\"uniform\", \"distance\"], \n",
    "            \"n_jobs\" : [5 , 10 , 20]\n",
    "        }\n",
    "    },\n",
    "    \"hist gradient classifier\" : {\n",
    "        \"model\" : HistGradientBoostingClassifier(),\n",
    "        \"params\" : {\n",
    "            \"loss\" : [\"log_loss\" , \"deviance\" , \"exponential\"],\n",
    "            \"n_estimators\" : [200 , 300 , 400 ],\n",
    "            \"criterion\" : [\"friedman_mse\" , \"squared_error\"],\n",
    "            \n",
    "        }\n",
    "    }\n",
    "}"
   ]
  }
 ],
 "metadata": {
  "kernelspec": {
   "display_name": "Python 3 (ipykernel)",
   "language": "python",
   "name": "python3"
  },
  "language_info": {
   "codemirror_mode": {
    "name": "ipython",
    "version": 3
   },
   "file_extension": ".py",
   "mimetype": "text/x-python",
   "name": "python",
   "nbconvert_exporter": "python",
   "pygments_lexer": "ipython3",
   "version": "3.9.13"
  }
 },
 "nbformat": 4,
 "nbformat_minor": 5
}
