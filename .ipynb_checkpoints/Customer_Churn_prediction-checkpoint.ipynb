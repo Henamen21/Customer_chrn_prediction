{
 "cells": [
  {
   "cell_type": "markdown",
   "id": "bd67bed8",
   "metadata": {},
   "source": [
    "# Vodafone Telecommunication : Customer Churn Prediction"
   ]
  },
  {
   "cell_type": "markdown",
   "id": "1ed28e91",
   "metadata": {},
   "source": [
    "## importing libraries"
   ]
  },
  {
   "cell_type": "code",
   "execution_count": null,
   "id": "20101c3c",
   "metadata": {},
   "outputs": [],
   "source": [
    "# For loading data and related works\n",
    "import numpy as np\n",
    "import pandas as pd\n",
    "\n",
    "# For controlling warnings\n",
    "import warnings\n",
    "\n",
    "# For data visualizatioon\n",
    "import matplotlib.pyplot as plt\n",
    "import seaborn as sns\n",
    "import plotly.express as px\n",
    "\n",
    "# For connecting to the database\n",
    "import pyodbc\n",
    "\n",
    "# For stating hypothesis\n",
    "import scipy.stats as stats\n",
    "\n",
    "# For feature encoding\n",
    "from sklearn.compose import make_column_selector as selector\n",
    "from sklearn.preprocessing import StandardScaler, OrdinalEncoder\n",
    "from sklearn.compose import ColumnTransformer\n",
    "\n",
    "# For data balancing\n",
    "from imblearn.over_sampling import SMOTE\n",
    "\n",
    "# For data spliting\n",
    "from sklearn.model_selection import train_test_split\n",
    "\n",
    "# For machine learning model\n",
    "from sklearn import svm\n",
    "from sklearn.tree import DecisionTreeClassifier\n",
    "from sklearn.neighbors import KNeighborsClassifier\n",
    "from sklearn.ensemble import RandomForestClassifier\n",
    "from sklearn.linear_model import LogisticRegression\n",
    "from sklearn.ensemble import HistGradientBoostingClassifier\n",
    "\n",
    "# For evaluating model results\n",
    "from sklearn.metrics import classification_report\n",
    "from sklearn.model_selection import StratifiedKFold, cross_val_score\n",
    "from sklearn.metrics import f1_score\n",
    "\n",
    "# For hyperparameter tunning\n",
    "from sklearn.model_selection import GridSearchCV\n",
    "from sklearn.metrics import confusion_matrix\n",
    "from sklearn.metrics import ConfusionMatrixDisplay\n",
    "from sklearn.model_selection import KFold, cross_val_score\n",
    "from sklearn.model_selection import RandomizedSearchCV\n",
    "\n",
    "warnings.filterwarnings('ignore')"
   ]
  },
  {
   "cell_type": "markdown",
   "id": "5298276e",
   "metadata": {},
   "source": [
    "### First Dataset : Loading training data from database"
   ]
  },
  {
   "cell_type": "code",
   "execution_count": null,
   "id": "59f39913",
   "metadata": {},
   "outputs": [],
   "source": [
    "server = \"dap-projects-database.database.windows.net\"\n",
    "database = \"dapDB\"\n",
    "username = \"dataAnalyst_LP2\"\n",
    "password = \"A3g@3kR$2y\""
   ]
  },
  {
   "cell_type": "code",
   "execution_count": null,
   "id": "10bdc256",
   "metadata": {},
   "outputs": [],
   "source": [
    "connection_string = f\"DRIVER={{SQL Server}};SERVER={server};DATABASE={database};UID={username};PWD={password}\""
   ]
  },
  {
   "cell_type": "code",
   "execution_count": null,
   "id": "90930426",
   "metadata": {},
   "outputs": [],
   "source": [
    "connection = pyodbc.connect(connection_string)\n"
   ]
  },
  {
   "cell_type": "code",
   "execution_count": null,
   "id": "b2b94acd",
   "metadata": {},
   "outputs": [],
   "source": [
    "query = \"Select * from dbo.LP2_Telco_churn_first_3000\"\n",
    "data_from_database = pd.read_sql(query, connection)"
   ]
  },
  {
   "cell_type": "code",
   "execution_count": null,
   "id": "a5ed1b83",
   "metadata": {},
   "outputs": [],
   "source": [
    "data_from_database.shape"
   ]
  },
  {
   "cell_type": "code",
   "execution_count": null,
   "id": "0e6b82d3",
   "metadata": {},
   "outputs": [],
   "source": [
    "data_from_database.head()"
   ]
  },
  {
   "cell_type": "markdown",
   "id": "323109c4",
   "metadata": {},
   "source": [
    "### Second Dataset : Loading testing data"
   ]
  },
  {
   "cell_type": "code",
   "execution_count": null,
   "id": "1c3e2352",
   "metadata": {},
   "outputs": [],
   "source": [
    "test = pd.read_excel(\"C:/Users/hp/Documents/Azubi_2/project_2/Customer_churn/Telco-churn-second-2000 (1).xlsx\")"
   ]
  },
  {
   "cell_type": "code",
   "execution_count": null,
   "id": "75f016ee",
   "metadata": {},
   "outputs": [],
   "source": [
    "test.shape"
   ]
  },
  {
   "cell_type": "code",
   "execution_count": null,
   "id": "c5f1f992",
   "metadata": {},
   "outputs": [],
   "source": [
    "test.head()"
   ]
  },
  {
   "cell_type": "markdown",
   "id": "95c97395",
   "metadata": {},
   "source": [
    "### Third Dataset : Loading Training data "
   ]
  },
  {
   "cell_type": "code",
   "execution_count": null,
   "id": "7b9b5f80",
   "metadata": {},
   "outputs": [],
   "source": [
    "data_from_github = pd.read_csv(\"C:/Users/hp/Documents/Azubi_2/project_2/Customer_churn/LP2_Telco-churn-last-2000.csv\")"
   ]
  },
  {
   "cell_type": "code",
   "execution_count": null,
   "id": "8a4dc2f1",
   "metadata": {},
   "outputs": [],
   "source": [
    "data_from_github.shape"
   ]
  },
  {
   "cell_type": "code",
   "execution_count": null,
   "id": "907ba6ed",
   "metadata": {},
   "outputs": [],
   "source": [
    "data_from_github.head()"
   ]
  },
  {
   "cell_type": "markdown",
   "id": "f6149bd5",
   "metadata": {},
   "source": [
    "# Cleaning Testing data"
   ]
  },
  {
   "cell_type": "code",
   "execution_count": null,
   "id": "ceb946eb",
   "metadata": {},
   "outputs": [],
   "source": [
    "test.shape"
   ]
  },
  {
   "cell_type": "code",
   "execution_count": null,
   "id": "c13ac4a3",
   "metadata": {},
   "outputs": [],
   "source": [
    "test.PhoneService.dtype == \"object\""
   ]
  },
  {
   "cell_type": "markdown",
   "id": "b88b3d90",
   "metadata": {},
   "source": [
    "#### Function to check columns"
   ]
  },
  {
   "cell_type": "code",
   "execution_count": null,
   "id": "971e53d9",
   "metadata": {},
   "outputs": [],
   "source": [
    "def column_checker(data):\n",
    "    for col in test.columns:\n",
    "        print(col , \" => \" ,  data[col].unique())\n",
    "column_checker(test)"
   ]
  },
  {
   "cell_type": "code",
   "execution_count": null,
   "id": "27e69982",
   "metadata": {},
   "outputs": [],
   "source": [
    "test.isnull().any()"
   ]
  },
  {
   "cell_type": "code",
   "execution_count": null,
   "id": "ed3328fa",
   "metadata": {},
   "outputs": [],
   "source": [
    "test.info()"
   ]
  },
  {
   "cell_type": "markdown",
   "id": "d00a8006",
   "metadata": {},
   "source": [
    "#### function to replace column values"
   ]
  },
  {
   "cell_type": "code",
   "execution_count": null,
   "id": "affd08cb",
   "metadata": {},
   "outputs": [],
   "source": [
    "# Replace values in multiple columns\n",
    "columns_to_replace = ['MultipleLines', 'PhoneService', 'DeviceProtection', 'InternetService', \n",
    "                      'OnlineSecurity', 'OnlineBackup', 'StreamingTV', 'TechSupport', 'StreamingMovies',\n",
    "                      'SeniorCitizen', 'Partner', 'Dependents', 'PaperlessBilling']\n",
    "\n",
    "# Define the mapping of values to replace\n",
    "value_mapping = {\n",
    "    True: 'Yes',\n",
    "    False: 'No',\n",
    "    np.nan: 'No',\n",
    "    '': 'No',\n",
    "    'NaN': 'No',\n",
    "    'Nan': 'No',\n",
    "    'NaN': 'No',\n",
    "    0: 'No',\n",
    "    1: 'Yes',\n",
    "}"
   ]
  },
  {
   "cell_type": "code",
   "execution_count": null,
   "id": "9cc9e007",
   "metadata": {},
   "outputs": [],
   "source": [
    "value_mapping"
   ]
  },
  {
   "cell_type": "code",
   "execution_count": null,
   "id": "613b51ca",
   "metadata": {},
   "outputs": [],
   "source": [
    "test.MonthlyCharges.dtype == \"float64\""
   ]
  },
  {
   "cell_type": "code",
   "execution_count": null,
   "id": "d2626a26",
   "metadata": {},
   "outputs": [],
   "source": [
    "# Loop through each column and replace the values\n",
    "def column_replacer(data):\n",
    "    for column in columns_to_replace:\n",
    "        if data[column].dtype == \"float64\" or data[column].dtype == \"int64\":\n",
    "            data[column] = data[column].astype(str) # changing to string\n",
    "        data[column] = data[column].replace(value_mapping)\n",
    "column_replacer(test)"
   ]
  },
  {
   "cell_type": "code",
   "execution_count": null,
   "id": "085a0625",
   "metadata": {},
   "outputs": [],
   "source": [
    "column_checker(test)\n"
   ]
  },
  {
   "cell_type": "markdown",
   "id": "cd388996",
   "metadata": {},
   "source": [
    "Our testing data has no null values"
   ]
  },
  {
   "cell_type": "markdown",
   "id": "3e8ea94c",
   "metadata": {},
   "source": [
    "## Handling column \"TotalCharges\""
   ]
  },
  {
   "cell_type": "code",
   "execution_count": null,
   "id": "d02133e2",
   "metadata": {},
   "outputs": [],
   "source": [
    "test.TotalCharges = test.TotalCharges.astype(str)\n"
   ]
  },
  {
   "cell_type": "code",
   "execution_count": null,
   "id": "c3ce8036",
   "metadata": {},
   "outputs": [],
   "source": [
    "# replacing values\n",
    "\n",
    "test.TotalCharges = test.TotalCharges.apply(lambda x : str(x).replace('',\"0\"))\n",
    "test.TotalCharges = test.TotalCharges.apply(lambda x : str(x).replace(\"0.0\",\"0\"))\n",
    "test.TotalCharges = test.TotalCharges.apply(lambda x : str(x).replace(\"0 0\",\"0\"))\n",
    "test.TotalCharges = test.TotalCharges.apply(lambda x : str(x).replace(\"000 000\",\"0\"))\n",
    "test.TotalCharges = test.TotalCharges.apply(lambda x : str(x).replace('0000000 0000000',\"0\"))\n"
   ]
  },
  {
   "cell_type": "code",
   "execution_count": null,
   "id": "ca7fba94",
   "metadata": {},
   "outputs": [],
   "source": [
    "test.TotalCharges = test.TotalCharges.astype(float)"
   ]
  },
  {
   "cell_type": "code",
   "execution_count": null,
   "id": "ba043283",
   "metadata": {},
   "outputs": [],
   "source": [
    "test.info()"
   ]
  },
  {
   "cell_type": "code",
   "execution_count": null,
   "id": "ace46c96",
   "metadata": {},
   "outputs": [],
   "source": [
    "test.head()"
   ]
  },
  {
   "cell_type": "markdown",
   "id": "71e944c1",
   "metadata": {},
   "source": [
    "# Cleaning Training data"
   ]
  },
  {
   "cell_type": "markdown",
   "id": "a2ca9600",
   "metadata": {},
   "source": [
    "Before applying cleaning we need to concatenate the two datasets in to one data"
   ]
  },
  {
   "cell_type": "code",
   "execution_count": null,
   "id": "b7af1965",
   "metadata": {},
   "outputs": [],
   "source": [
    "training = pd.concat([data_from_database , data_from_github])"
   ]
  },
  {
   "cell_type": "code",
   "execution_count": null,
   "id": "725b75ee",
   "metadata": {},
   "outputs": [],
   "source": [
    "training.head()"
   ]
  },
  {
   "cell_type": "code",
   "execution_count": null,
   "id": "b8f474b2",
   "metadata": {},
   "outputs": [],
   "source": [
    "training.shape"
   ]
  },
  {
   "cell_type": "code",
   "execution_count": null,
   "id": "1b87ecb5",
   "metadata": {},
   "outputs": [],
   "source": [
    "training.isnull().any()"
   ]
  },
  {
   "cell_type": "markdown",
   "id": "d79e2e3a",
   "metadata": {},
   "source": [
    "As Column 1 is not relevant to our data we drop it"
   ]
  },
  {
   "cell_type": "code",
   "execution_count": null,
   "id": "b97a7e39",
   "metadata": {},
   "outputs": [],
   "source": [
    "column_checker(training)"
   ]
  },
  {
   "cell_type": "code",
   "execution_count": null,
   "id": "44d2be64",
   "metadata": {},
   "outputs": [],
   "source": [
    "column_replacer(training)"
   ]
  },
  {
   "cell_type": "code",
   "execution_count": null,
   "id": "c179b46d",
   "metadata": {},
   "outputs": [],
   "source": [
    "column_checker(training)"
   ]
  },
  {
   "cell_type": "markdown",
   "id": "3d32154e",
   "metadata": {},
   "source": [
    "## Handling column \"TotalCharges\""
   ]
  },
  {
   "cell_type": "code",
   "execution_count": null,
   "id": "75d2848e",
   "metadata": {},
   "outputs": [],
   "source": [
    "a = training[\"TotalCharges\"].dropna() # dropping null values "
   ]
  },
  {
   "cell_type": "code",
   "execution_count": null,
   "id": "c22f9add",
   "metadata": {},
   "outputs": [],
   "source": [
    "a = a.astype(str) # changing to string to replace non int values"
   ]
  },
  {
   "cell_type": "code",
   "execution_count": null,
   "id": "82d78693",
   "metadata": {},
   "outputs": [],
   "source": [
    "# replacing values\n",
    "\n",
    "a = a.apply(lambda x : x.replace('',\"0\"))\n",
    "a = a.apply(lambda x : x.replace(\"0 0\",\"0\"))"
   ]
  },
  {
   "cell_type": "code",
   "execution_count": null,
   "id": "7743adb7",
   "metadata": {},
   "outputs": [],
   "source": [
    "a = a.astype(float)"
   ]
  },
  {
   "cell_type": "code",
   "execution_count": null,
   "id": "be2c727a",
   "metadata": {},
   "outputs": [],
   "source": [
    "my_mean = a.mean()"
   ]
  },
  {
   "cell_type": "code",
   "execution_count": null,
   "id": "73c7beca",
   "metadata": {},
   "outputs": [],
   "source": [
    "training[\"TotalCharges\"] = training[\"TotalCharges\"].fillna(my_mean) # filling null values by mean"
   ]
  },
  {
   "cell_type": "code",
   "execution_count": null,
   "id": "01f09ae1",
   "metadata": {},
   "outputs": [],
   "source": [
    "training[\"TotalCharges\"].isnull().sum()"
   ]
  },
  {
   "cell_type": "code",
   "execution_count": null,
   "id": "2fedc4d3",
   "metadata": {},
   "outputs": [],
   "source": [
    "training[\"TotalCharges\"] = training[\"TotalCharges\"].apply(lambda x : str(x).replace(\" \",\"0\"))"
   ]
  },
  {
   "cell_type": "code",
   "execution_count": null,
   "id": "4064880c",
   "metadata": {},
   "outputs": [],
   "source": [
    "training[\"TotalCharges\"] = training[\"TotalCharges\"].astype(float)"
   ]
  },
  {
   "cell_type": "markdown",
   "id": "7fe397dd",
   "metadata": {},
   "source": [
    "## Handling column \"Churn\""
   ]
  },
  {
   "cell_type": "code",
   "execution_count": null,
   "id": "851cb3e8",
   "metadata": {},
   "outputs": [],
   "source": [
    "training[\"Churn\"].unique()"
   ]
  },
  {
   "cell_type": "code",
   "execution_count": null,
   "id": "23a56f36",
   "metadata": {},
   "outputs": [],
   "source": [
    "training[\"Churn\"] = training[\"Churn\"].astype(str)"
   ]
  },
  {
   "cell_type": "code",
   "execution_count": null,
   "id": "c2bb3cbc",
   "metadata": {},
   "outputs": [],
   "source": [
    "#  replacing values\n",
    "\n",
    "training[\"Churn\"] = training[\"Churn\"].apply(lambda x: x.replace(\"False\",\"No\"))\n",
    "training[\"Churn\"] = training[\"Churn\"].apply(lambda x: x.replace('True',\"Yes\"))\n",
    "training[\"Churn\"] = training[\"Churn\"].apply(lambda x: x.replace(\"nan\",\"No\"))\n",
    "training[\"Churn\"] = training[\"Churn\"].apply(lambda x: x.replace(\"None\",\"No\"))"
   ]
  },
  {
   "cell_type": "code",
   "execution_count": null,
   "id": "23e7517b",
   "metadata": {},
   "outputs": [],
   "source": [
    "training.Churn.unique()"
   ]
  },
  {
   "cell_type": "code",
   "execution_count": null,
   "id": "4de1cc8f",
   "metadata": {},
   "outputs": [],
   "source": [
    "training.isnull().sum()"
   ]
  },
  {
   "cell_type": "code",
   "execution_count": null,
   "id": "09be5532",
   "metadata": {},
   "outputs": [],
   "source": [
    "training.info()"
   ]
  },
  {
   "cell_type": "code",
   "execution_count": null,
   "id": "819c9978",
   "metadata": {},
   "outputs": [],
   "source": [
    "training.head()"
   ]
  },
  {
   "cell_type": "markdown",
   "id": "e98ba0a6",
   "metadata": {},
   "source": [
    "Now our training data is cleaned"
   ]
  },
  {
   "cell_type": "markdown",
   "id": "6377933c",
   "metadata": {},
   "source": [
    "# Stating hypothesis"
   ]
  },
  {
   "cell_type": "markdown",
   "id": "1f47fd99",
   "metadata": {},
   "source": [
    "Null Hypothesis : There is no significate effect of customers being senior citizen for a company to have more churn customers\n",
    "\n",
    "Alternative Hypothesis : There is significate effect of customers being senior citizen for a company to have more churn customers"
   ]
  },
  {
   "cell_type": "code",
   "execution_count": null,
   "id": "6e324260",
   "metadata": {},
   "outputs": [],
   "source": [
    "training.SeniorCitizen"
   ]
  },
  {
   "cell_type": "code",
   "execution_count": null,
   "id": "455edc44",
   "metadata": {},
   "outputs": [],
   "source": [
    "citizen = training.SeniorCitizen\n",
    "churn = training.Churn"
   ]
  },
  {
   "cell_type": "code",
   "execution_count": null,
   "id": "1baef095",
   "metadata": {},
   "outputs": [],
   "source": [
    "# preparing the data to hypothesis testing\n",
    "\n",
    "citizen = citizen.apply(lambda x: str(x).replace(\"No\", \"0\"))\n",
    "citizen = citizen.apply(lambda x: str(x).replace(\"Yes\", \"1\"))\n",
    "\n",
    "churn = churn.apply(lambda x: str(x).replace(\"No\", \"0\"))\n",
    "churn = churn.apply(lambda x: str(x).replace(\"Yes\", \"1\"))\n",
    "#churn = churn.apply(lambda x: str(x).replace(\"One\", \"1\"))\n"
   ]
  },
  {
   "cell_type": "code",
   "execution_count": null,
   "id": "b7910954",
   "metadata": {},
   "outputs": [],
   "source": [
    "churn.unique()"
   ]
  },
  {
   "cell_type": "code",
   "execution_count": null,
   "id": "bf5555c0",
   "metadata": {},
   "outputs": [],
   "source": [
    "# converting to numeric\n",
    "\n",
    "citizen = citizen.astype(int)\n",
    "churn = churn.astype(int)"
   ]
  },
  {
   "cell_type": "code",
   "execution_count": null,
   "id": "42ff7f35",
   "metadata": {},
   "outputs": [],
   "source": [
    "# checking p-value using shapiro\n",
    "\n",
    "print(stats.shapiro(churn))"
   ]
  },
  {
   "cell_type": "code",
   "execution_count": null,
   "id": "19ea8a73",
   "metadata": {},
   "outputs": [],
   "source": [
    "print(stats.levene(churn, citizen))"
   ]
  },
  {
   "cell_type": "code",
   "execution_count": null,
   "id": "1611752a",
   "metadata": {},
   "outputs": [],
   "source": [
    "t_stat, p_value = stats.ttest_ind(citizen, churn) #two sample t-test\n",
    "print(t_stat, p_value)"
   ]
  },
  {
   "cell_type": "code",
   "execution_count": null,
   "id": "afba3927",
   "metadata": {},
   "outputs": [],
   "source": [
    "alpha = 0.05\n",
    "if p_value < alpha:\n",
    "    print(\"Reject HYpothesis\")\n",
    "else:\n",
    "    print(\"Fail to reject Null Hypothesis\")"
   ]
  },
  {
   "cell_type": "markdown",
   "id": "5e71e97e",
   "metadata": {},
   "source": [
    "According to our result we can conclude that there is an effect on being a senior citizen customer or not for the company to loose its users. We recommend the organization to look for senior citiznes to be its users."
   ]
  },
  {
   "cell_type": "code",
   "execution_count": null,
   "id": "3181351d",
   "metadata": {},
   "outputs": [],
   "source": [
    "seniorcitizen = training[training.SeniorCitizen == \"Yes\"]\n",
    "leave_senior = seniorcitizen[seniorcitizen.Churn == \"Yes\"][\"Churn\"].count()\n",
    "\n",
    "not_seniorcitizen = training[training.SeniorCitizen == \"No\"]\n",
    "not_seniorcitizen = not_seniorcitizen[not_seniorcitizen.Churn == \"Yes\"][\"Churn\"].count()\n",
    "\n",
    "list_citizen = [\"Senior\", \"Not Senior\"]\n",
    "list_num = [leave_senior, not_seniorcitizen]\n"
   ]
  },
  {
   "cell_type": "code",
   "execution_count": null,
   "id": "d3dcfdd2",
   "metadata": {},
   "outputs": [],
   "source": [
    "sns.barplot(x = list_num, y= list_citizen )\n",
    "\n",
    "# Show plot\n",
    "\n",
    "plt.title(\"Number of customers leaves the company\")\n",
    "plt.xlabel(\"Customer churn\")\n",
    "plt.ylabel(\"Citizenship\")\n",
    "\n",
    "plt.style.use(\"fivethirtyeight\")\n",
    "plt.show()"
   ]
  },
  {
   "cell_type": "markdown",
   "id": "f0864a44",
   "metadata": {},
   "source": [
    "# Asking questions and visualization"
   ]
  },
  {
   "cell_type": "markdown",
   "id": "9d85efbd",
   "metadata": {},
   "source": [
    "### 1. How gender is distributed ?"
   ]
  },
  {
   "cell_type": "code",
   "execution_count": null,
   "id": "47865dfb",
   "metadata": {},
   "outputs": [],
   "source": [
    "male = ( training[\"gender\"] == \"Male\" ).sum()\n",
    "female = ( training[\"gender\"] == \"Female\" ).sum()\n",
    "\n",
    "data = [male, female]\n",
    "labels = ['Male', \"Female\"]\n",
    "\n",
    "#define Seaborn color palette to use\n",
    "colors = sns.color_palette('pastel')[0:5]\n",
    "\n",
    "#create pie chart\n",
    "plt.pie(data, labels = labels, colors = colors, autopct='%.0f%%')\n",
    "plt.show()"
   ]
  },
  {
   "cell_type": "markdown",
   "id": "dec1bf25",
   "metadata": {},
   "source": [
    "The gender distribution has no a big differnce, The data is a balanced with gender"
   ]
  },
  {
   "cell_type": "markdown",
   "id": "9de039d7",
   "metadata": {},
   "source": [
    "### 2. How many customers are senior citizen ?"
   ]
  },
  {
   "cell_type": "code",
   "execution_count": null,
   "id": "9cfa228f",
   "metadata": {},
   "outputs": [],
   "source": [
    "sns.countplot(x=\"SeniorCitizen\", data=training)\n",
    "\n",
    "plt.style.use(\"fivethirtyeight\")\n",
    "\n",
    "plt.show()\n"
   ]
  },
  {
   "cell_type": "markdown",
   "id": "42cedc97",
   "metadata": {},
   "source": [
    "More than 4000 customers are not senior Citizens and 800 are seniors. This shows a high variance."
   ]
  },
  {
   "cell_type": "markdown",
   "id": "d4158888",
   "metadata": {},
   "source": [
    "### 3. How many customers are using different types of services from the company ?"
   ]
  },
  {
   "cell_type": "code",
   "execution_count": null,
   "id": "134d39f9",
   "metadata": {},
   "outputs": [],
   "source": [
    "MultipleLines = ( training[\"MultipleLines\"] == \"Yes\" ).sum()\n",
    "TechSupport = ( training[\"TechSupport\"] == \"Yes\" ).sum()\n",
    "OnlineSecurity = ( training[\"OnlineSecurity\"] == \"Yes\" ).sum()\n",
    "DeviceProtection = ( training[\"DeviceProtection\"] == \"Yes\" ).sum()\n",
    "OnlineBackup = ( training[\"OnlineBackup\"] == \"Yes\" ).sum()\n",
    "StreamingTV = ( training[\"StreamingTV\"] == \"Yes\" ).sum()\n",
    "Churn = ( training[\"Churn\"] == \"Yes\" ).sum()"
   ]
  },
  {
   "cell_type": "code",
   "execution_count": null,
   "id": "1fc3d460",
   "metadata": {},
   "outputs": [],
   "source": [
    "list_item = [\"MultipleLines\", \"TechSupport\", \"OnlineSecurity\", \"DeviceProtection\", \"OnlineBackup\", \"StreamingTV\", \"Churn\"]\n",
    "list_num = [MultipleLines, TechSupport, OnlineSecurity, DeviceProtection, OnlineBackup, StreamingTV, Churn]"
   ]
  },
  {
   "cell_type": "code",
   "execution_count": null,
   "id": "215113e8",
   "metadata": {},
   "outputs": [],
   "source": [
    "sns.barplot(x = list_num, y= list_item)\n",
    "\n",
    "# Show plot\n",
    "plt.show()\n"
   ]
  },
  {
   "cell_type": "markdown",
   "id": "9f53e282",
   "metadata": {},
   "source": [
    "### 4. How many customers churn from the company ?"
   ]
  },
  {
   "cell_type": "code",
   "execution_count": null,
   "id": "87b35143",
   "metadata": {},
   "outputs": [],
   "source": [
    "Stay = ( training[\"Churn\"] == \"Yes\" ).sum()\n",
    "Leave = ( training[\"Churn\"] == \"No\" ).sum()\n",
    "\n",
    "data = [Stay, Leave]\n",
    "labels = ['Stay', \"Leave\"]\n",
    "\n",
    "#define Seaborn color palette to use\n",
    "colors = sns.color_palette('pastel')[0:5]\n",
    "\n",
    "#create pie chart\n",
    "plt.pie(data, labels = labels, colors = colors, autopct='%.0f%%')\n",
    "plt.title(\"Percentage of Customers in company\")\n",
    "plt.show()"
   ]
  },
  {
   "cell_type": "markdown",
   "id": "ab3c0924",
   "metadata": {},
   "source": [
    "The company's data shows that 75% of customers are leavning. More than half percent of them have not internet service, techsupport and other benefits from the organization"
   ]
  },
  {
   "cell_type": "markdown",
   "id": "35fc7733",
   "metadata": {},
   "source": [
    "### 5. What is Average Month charges ?\n"
   ]
  },
  {
   "cell_type": "code",
   "execution_count": null,
   "id": "b697d25a",
   "metadata": {},
   "outputs": [],
   "source": [
    "mean  = training[\"MonthlyCharges\"].mean()\n",
    "print(\"Averge monthly charge is : \", round(mean,2))"
   ]
  },
  {
   "cell_type": "markdown",
   "id": "b24d0db9",
   "metadata": {},
   "source": [
    "### 6. What is total charge the company gained ?"
   ]
  },
  {
   "cell_type": "code",
   "execution_count": null,
   "id": "38d68866",
   "metadata": {},
   "outputs": [],
   "source": [
    "total  = training[\"TotalCharges\"].mean()\n",
    "print(\"Averge Total charge is : \", round(total,2))"
   ]
  },
  {
   "cell_type": "markdown",
   "id": "3f76686d",
   "metadata": {},
   "source": [
    "### 7. What type of Internet service is used by customers ?"
   ]
  },
  {
   "cell_type": "code",
   "execution_count": null,
   "id": "61d037bc",
   "metadata": {},
   "outputs": [],
   "source": [
    "sns.countplot(x=\"InternetService\", data=training)\n",
    "\n",
    "plt.style.use(\"fivethirtyeight\")\n",
    "\n",
    "plt.title(\"Internet Service Type\")\n",
    "plt.xlabel(\"Service type\")\n",
    "plt.ylabel(\"Amount\")\n",
    "plt.show()\n"
   ]
  },
  {
   "cell_type": "markdown",
   "id": "78cd08ca",
   "metadata": {},
   "source": [
    "# Checking for outliers"
   ]
  },
  {
   "cell_type": "code",
   "execution_count": null,
   "id": "3296eb45",
   "metadata": {},
   "outputs": [],
   "source": [
    "# Service usage - Monthly Charges\n",
    "# Examining the Average monthly charges with a box plots\n",
    "plt.figure(figsize=(10, 6))\n",
    "sns.boxplot(x='MonthlyCharges', data=training)\n",
    "plt.title('Monthly Charges')\n",
    "plt.xlabel('Charges')\n",
    "plt.show()"
   ]
  },
  {
   "cell_type": "markdown",
   "id": "371687d1",
   "metadata": {},
   "source": [
    "The box plot for monthly charges gives an overview of the distribution of charges among customers. It shows the range, median, quartiles, and any potential outliers in the monthly charges. With this, we can see that the average is around 70 with 20 being the lowest and 120 the highest charge per month. "
   ]
  },
  {
   "cell_type": "code",
   "execution_count": null,
   "id": "8e3c2393",
   "metadata": {},
   "outputs": [],
   "source": [
    "# Service usage - Monthly Charges\n",
    "# Examining the Average monthly charges with a box plots\n",
    "plt.figure(figsize=(10, 6))\n",
    "sns.boxplot(x='TotalCharges', data=training)\n",
    "plt.title('Total Charges')\n",
    "plt.xlabel('Charges')\n",
    "plt.show()"
   ]
  },
  {
   "cell_type": "markdown",
   "id": "92a71815",
   "metadata": {},
   "source": [
    "There is too much outlier in the column TotalCharge. So for the sake of good machine learning model performance it needs to be corrected"
   ]
  },
  {
   "cell_type": "code",
   "execution_count": null,
   "id": "9fb59d20",
   "metadata": {},
   "outputs": [],
   "source": [
    "training.drop(training.loc[training['TotalCharges'] > 10000].index, inplace=True)  # Handling outliers"
   ]
  },
  {
   "cell_type": "code",
   "execution_count": null,
   "id": "0c9b7d53",
   "metadata": {},
   "outputs": [],
   "source": [
    "# Service usage - Monthly Charges\n",
    "# Examining the Average monthly charges with a box plots\n",
    "plt.figure(figsize=(10, 6))\n",
    "sns.boxplot(x='TotalCharges', data=training)\n",
    "plt.title('Total Charges')\n",
    "plt.xlabel('Charges')\n",
    "plt.show()"
   ]
  },
  {
   "cell_type": "markdown",
   "id": "27d53a87",
   "metadata": {},
   "source": [
    "# Bivariate and Multivariate analysis"
   ]
  },
  {
   "cell_type": "markdown",
   "id": "74804967",
   "metadata": {},
   "source": [
    "## Bivariate Analysis"
   ]
  },
  {
   "cell_type": "markdown",
   "id": "d129872d",
   "metadata": {},
   "source": [
    "Bivariate analysis explores the relationship between two variables. In the case of customer churn data, bivariate analysis can help uncover potential correlations or dependencies between different variables and churn"
   ]
  },
  {
   "cell_type": "code",
   "execution_count": null,
   "id": "36c8cec8",
   "metadata": {},
   "outputs": [],
   "source": [
    "# Churn by gender\n",
    "\n",
    "# Analyzing the Churn Rate by Gender to observe any patterns associated with churn\n",
    "PaymentMethod = training.groupby('PaymentMethod')['Churn'].value_counts(normalize=True).unstack().reset_index()\n",
    "PaymentMethod.rename(columns={'No': 'No Churn', 'Yes': 'Churn'}, inplace=True)\n",
    "\n",
    "fig = px.bar(gender_churn, x='PaymentMethod', y=['No Churn', 'Churn'], barmode='stack', title='Churn by PaymentMethod')\n",
    "fig.show()"
   ]
  },
  {
   "cell_type": "markdown",
   "id": "38e403ae",
   "metadata": {},
   "source": [
    "The stacked bar chart demonstrates the churn rates categorized by gender. It shows that there is about 80% No Churn rate in both Male and Female and about 20% Churn rate in both too, so there's no pattern in genders."
   ]
  },
  {
   "cell_type": "code",
   "execution_count": null,
   "id": "d42d21af",
   "metadata": {},
   "outputs": [],
   "source": [
    "# Churn and service usage - Monthly Charges\n",
    "# Analyzing the Churn Rate by Monthly Charges to observe any patterns associated with churn\n",
    "fig = px.scatter(training, x='MonthlyCharges', y='Churn', color='Churn', title='Churn and Monthly Charges')\n",
    "fig.show()"
   ]
  },
  {
   "cell_type": "markdown",
   "id": "c118c191",
   "metadata": {},
   "source": [
    "The scatter plot visualizes the relationship between churn and monthly charges. It allows us to observe whether there is any noticeable pattern or trend between higher charges and churn. It can help identify if customers with higher monthly charges are more likely to churn. This shows that charges between 70 to 110 have a higher chance to churn and also not churn which means no noticeable patterns"
   ]
  },
  {
   "cell_type": "code",
   "execution_count": null,
   "id": "ca5a54af",
   "metadata": {},
   "outputs": [],
   "source": [
    "# Churn and contract information - Contract\n",
    "# Analyzing the Churn Rate by Contract to observe any patterns associated with churn\n",
    "contract_churn = training.groupby('Contract')['Churn'].value_counts(normalize=True).unstack().reset_index()\n",
    "contract_churn.rename(columns={'No': 'No Churn', 'Yes': 'Churn'}, inplace=True)\n",
    "\n",
    "fig = px.bar(contract_churn, x='Contract', y=['No Churn', 'Churn'], barmode='stack', title='Churn by Contract Type')\n",
    "fig.show()\n"
   ]
  },
  {
   "cell_type": "markdown",
   "id": "1f5d6a01",
   "metadata": {},
   "source": [
    "The stacked bar chart showcases the churn rates based on different contract types (Month-to-month, One year and Two years). It shows that a signicantly higher percentage of customers are likely to churn with a contract type of Month-to-month."
   ]
  },
  {
   "cell_type": "markdown",
   "id": "198296e0",
   "metadata": {},
   "source": [
    "# Feature Engineering"
   ]
  },
  {
   "cell_type": "markdown",
   "id": "75eafc33",
   "metadata": {},
   "source": [
    "#### As \"CustomerID\" column is not relevant to our model we can drop it from both train and test data"
   ]
  },
  {
   "cell_type": "code",
   "execution_count": null,
   "id": "6497b0df",
   "metadata": {},
   "outputs": [],
   "source": [
    "test.drop([\"customerID\"] , axis = 1 , inplace = True) \n",
    "training.drop('customerID', inplace=True, axis=1)"
   ]
  },
  {
   "cell_type": "code",
   "execution_count": null,
   "id": "46e69ab5",
   "metadata": {},
   "outputs": [],
   "source": [
    "sns.heatmap( training.corr() , annot = True )"
   ]
  },
  {
   "cell_type": "markdown",
   "id": "199813c7",
   "metadata": {},
   "source": [
    "## Correlation perspectives"
   ]
  },
  {
   "cell_type": "markdown",
   "id": "293e2d50",
   "metadata": {},
   "source": [
    "Customers having a time of high tenure gives a lot of total charge to the company"
   ]
  },
  {
   "cell_type": "code",
   "execution_count": null,
   "id": "44a7df75",
   "metadata": {},
   "outputs": [],
   "source": [
    "sns.scatterplot(x = \"tenure\" , y = \"TotalCharges\" , data=training)\n",
    "plt.title(\"Customers tenure and total charges\")\n",
    "plt.show()"
   ]
  },
  {
   "cell_type": "markdown",
   "id": "dfaf8909",
   "metadata": {},
   "source": [
    "# Feature Scaling"
   ]
  },
  {
   "cell_type": "code",
   "execution_count": null,
   "id": "fb1f9326",
   "metadata": {},
   "outputs": [],
   "source": [
    "target_name = \"Churn\"\n",
    "target = training[\"Churn\"]\n",
    "\n",
    "data = training.drop(columns=[\"Churn\"])"
   ]
  },
  {
   "cell_type": "code",
   "execution_count": null,
   "id": "bbc52ba1",
   "metadata": {},
   "outputs": [],
   "source": [
    "# selecting a column by its type\n",
    "\n",
    "numerical_columns_selector = selector(dtype_exclude=object)\n",
    "categorical_columns_selector = selector(dtype_include=object)\n",
    "\n",
    "numerical_columns = numerical_columns_selector(data)\n",
    "categorical_columns = categorical_columns_selector(data)"
   ]
  },
  {
   "cell_type": "code",
   "execution_count": null,
   "id": "e08823a0",
   "metadata": {},
   "outputs": [],
   "source": [
    "# assigning an encoder\n",
    "categorical_preprocessor = OrdinalEncoder()\n",
    "numerical_preprocessor = StandardScaler()"
   ]
  },
  {
   "cell_type": "code",
   "execution_count": null,
   "id": "378af829",
   "metadata": {},
   "outputs": [],
   "source": [
    "# collaborating the processing\n",
    "preprocessor = ColumnTransformer(\n",
    "    [\n",
    "        (\"ordinal-encoder\", categorical_preprocessor, categorical_columns),\n",
    "        (\"standard_scaler\", numerical_preprocessor, numerical_columns),\n",
    "    ]\n",
    ")"
   ]
  },
  {
   "cell_type": "code",
   "execution_count": null,
   "id": "d3ce9532",
   "metadata": {},
   "outputs": [],
   "source": [
    "target_t = categorical_preprocessor.fit_transform(target.array.reshape(-1 , 1))"
   ]
  },
  {
   "cell_type": "code",
   "execution_count": null,
   "id": "791c370e",
   "metadata": {},
   "outputs": [],
   "source": [
    "target_t = pd.DataFrame(target_t )"
   ]
  },
  {
   "cell_type": "code",
   "execution_count": null,
   "id": "d8baab2f",
   "metadata": {},
   "outputs": [],
   "source": [
    "target_t.value_counts()"
   ]
  },
  {
   "cell_type": "code",
   "execution_count": null,
   "id": "2ac4af19",
   "metadata": {},
   "outputs": [],
   "source": [
    "data_t = preprocessor.fit_transform(data)"
   ]
  },
  {
   "cell_type": "code",
   "execution_count": null,
   "id": "4e7d415a",
   "metadata": {},
   "outputs": [],
   "source": [
    "data_t = pd.DataFrame(data_t  ,columns = list(data.columns))"
   ]
  },
  {
   "cell_type": "code",
   "execution_count": null,
   "id": "72347f5e",
   "metadata": {},
   "outputs": [],
   "source": [
    "data_t"
   ]
  },
  {
   "cell_type": "markdown",
   "id": "c2a47cae",
   "metadata": {},
   "source": [
    "# Balancing the data"
   ]
  },
  {
   "cell_type": "code",
   "execution_count": null,
   "id": "04ccd561",
   "metadata": {},
   "outputs": [],
   "source": [
    "target_t.value_counts()"
   ]
  },
  {
   "cell_type": "code",
   "execution_count": null,
   "id": "8f6ed60f",
   "metadata": {},
   "outputs": [],
   "source": [
    "target_t.hist()\n",
    "plt.title(\"Churn Distribution\")"
   ]
  },
  {
   "cell_type": "markdown",
   "id": "a7ac22a5",
   "metadata": {},
   "source": [
    "The above graph states tha our data on target column is not balanced"
   ]
  },
  {
   "cell_type": "code",
   "execution_count": null,
   "id": "f5e39a7c",
   "metadata": {},
   "outputs": [],
   "source": [
    "nm = SMOTE()"
   ]
  },
  {
   "cell_type": "code",
   "execution_count": null,
   "id": "80dd6ad9",
   "metadata": {},
   "outputs": [],
   "source": [
    "data_balanced_t , target_balanced_t = nm.fit_resample(data_t , target_t)"
   ]
  },
  {
   "cell_type": "code",
   "execution_count": null,
   "id": "3a6881d9",
   "metadata": {},
   "outputs": [],
   "source": [
    "target_balanced_t.value_counts()"
   ]
  },
  {
   "cell_type": "code",
   "execution_count": null,
   "id": "2d2a41bd",
   "metadata": {},
   "outputs": [],
   "source": [
    "target_balanced_t.hist()\n",
    "plt.title(\"Churn Distribution\")\n",
    "plt.xlabel(\"Churn\")\n",
    "plt.ylabel(\"Amount\")"
   ]
  },
  {
   "cell_type": "code",
   "execution_count": null,
   "id": "da70e97a",
   "metadata": {},
   "outputs": [],
   "source": [
    "print(\"Independet Data is : \", data_balanced_t.shape , \"Dependent Data is :\" , target_balanced_t.shape)"
   ]
  },
  {
   "cell_type": "markdown",
   "id": "936ebdee",
   "metadata": {},
   "source": [
    "### ... data balanced"
   ]
  },
  {
   "cell_type": "markdown",
   "id": "8e0b4e8f",
   "metadata": {},
   "source": [
    "# Machine Modeling"
   ]
  },
  {
   "cell_type": "code",
   "execution_count": null,
   "id": "12fa6048",
   "metadata": {},
   "outputs": [],
   "source": [
    "# splitting data\n",
    "\n",
    "data_train, data_test, target_train, target_test = train_test_split(\n",
    "    data_balanced_t, target_balanced_t, random_state=42\n",
    ")"
   ]
  },
  {
   "cell_type": "markdown",
   "id": "00dc495b",
   "metadata": {},
   "source": [
    "## 1. Logistic Regression"
   ]
  },
  {
   "cell_type": "code",
   "execution_count": null,
   "id": "38a71041",
   "metadata": {},
   "outputs": [],
   "source": [
    "model_trained = []"
   ]
  },
  {
   "cell_type": "code",
   "execution_count": null,
   "id": "83bb5369",
   "metadata": {},
   "outputs": [],
   "source": [
    "log = LogisticRegression() # assigning the module to a variable"
   ]
  },
  {
   "cell_type": "code",
   "execution_count": null,
   "id": "df330f93",
   "metadata": {},
   "outputs": [],
   "source": [
    "log.fit(data_train , target_train ) # training the model by fitting a training data"
   ]
  },
  {
   "cell_type": "code",
   "execution_count": null,
   "id": "5c215622",
   "metadata": {},
   "outputs": [],
   "source": [
    "model_trained.append(log)"
   ]
  },
  {
   "cell_type": "code",
   "execution_count": null,
   "id": "478b50a8",
   "metadata": {},
   "outputs": [],
   "source": [
    "target_predicted = log.predict(data_test)  # trying to make a prediction"
   ]
  },
  {
   "cell_type": "markdown",
   "id": "6a48be47",
   "metadata": {},
   "source": [
    "## Confusion matrix"
   ]
  },
  {
   "cell_type": "code",
   "execution_count": null,
   "id": "7a1be4c8",
   "metadata": {},
   "outputs": [],
   "source": [
    "def view_confusion(y_true , target):\n",
    "    cm = confusion_matrix(y_true , target)\n",
    "    cm_display = ConfusionMatrixDisplay(cm).plot()"
   ]
  },
  {
   "cell_type": "code",
   "execution_count": null,
   "id": "823824f4",
   "metadata": {},
   "outputs": [],
   "source": [
    "view_confusion(target_predicted, target_test)"
   ]
  },
  {
   "cell_type": "markdown",
   "id": "a6873621",
   "metadata": {},
   "source": [
    "### 2. HistGradientBoostingClassifier"
   ]
  },
  {
   "cell_type": "code",
   "execution_count": null,
   "id": "c603475a",
   "metadata": {},
   "outputs": [],
   "source": [
    "\n",
    "hist = HistGradientBoostingClassifier()"
   ]
  },
  {
   "cell_type": "code",
   "execution_count": null,
   "id": "b1b868f3",
   "metadata": {},
   "outputs": [],
   "source": [
    "hist.fit(data_train , target_train )"
   ]
  },
  {
   "cell_type": "code",
   "execution_count": null,
   "id": "ce83a089",
   "metadata": {},
   "outputs": [],
   "source": [
    "model_trained.append(hist)"
   ]
  },
  {
   "cell_type": "code",
   "execution_count": null,
   "id": "dadfc3b0",
   "metadata": {},
   "outputs": [],
   "source": [
    "target_predicted = hist.predict(data_test)"
   ]
  },
  {
   "cell_type": "code",
   "execution_count": null,
   "id": "0960b5c5",
   "metadata": {},
   "outputs": [],
   "source": [
    "view_confusion(target_predicted, target_test)"
   ]
  },
  {
   "cell_type": "markdown",
   "id": "521c37ab",
   "metadata": {},
   "source": [
    "## 3. K-Nearest Neihgbors"
   ]
  },
  {
   "cell_type": "code",
   "execution_count": null,
   "id": "8633104c",
   "metadata": {},
   "outputs": [],
   "source": [
    "kn = KNeighborsClassifier(n_neighbors=5)"
   ]
  },
  {
   "cell_type": "code",
   "execution_count": null,
   "id": "44bab3e9",
   "metadata": {},
   "outputs": [],
   "source": [
    "kn.fit(data_train , target_train )"
   ]
  },
  {
   "cell_type": "code",
   "execution_count": null,
   "id": "3b6c9b85",
   "metadata": {},
   "outputs": [],
   "source": [
    "model_trained.append(kn)"
   ]
  },
  {
   "cell_type": "code",
   "execution_count": null,
   "id": "71d796e4",
   "metadata": {},
   "outputs": [],
   "source": [
    "target_predicted = kn.predict(data_test)"
   ]
  },
  {
   "cell_type": "code",
   "execution_count": null,
   "id": "49bfcf60",
   "metadata": {},
   "outputs": [],
   "source": [
    "view_confusion(target_predicted, target_test)"
   ]
  },
  {
   "cell_type": "markdown",
   "id": "3cefe6c0",
   "metadata": {},
   "source": [
    "##### ... cross validation"
   ]
  },
  {
   "cell_type": "markdown",
   "id": "6dab5eec",
   "metadata": {},
   "source": [
    "# 4. SVM"
   ]
  },
  {
   "cell_type": "code",
   "execution_count": null,
   "id": "cd3c5ef2",
   "metadata": {},
   "outputs": [],
   "source": [
    "sv = svm.SVC()"
   ]
  },
  {
   "cell_type": "code",
   "execution_count": null,
   "id": "9039ee9b",
   "metadata": {},
   "outputs": [],
   "source": [
    "sv.fit(data_train , target_train)"
   ]
  },
  {
   "cell_type": "code",
   "execution_count": null,
   "id": "f7402202",
   "metadata": {},
   "outputs": [],
   "source": [
    "model_trained.append(sv)"
   ]
  },
  {
   "cell_type": "code",
   "execution_count": null,
   "id": "52a17edd",
   "metadata": {},
   "outputs": [],
   "source": [
    "target_predicted = sv.predict(data_test)"
   ]
  },
  {
   "cell_type": "code",
   "execution_count": null,
   "id": "bfb9782f",
   "metadata": {},
   "outputs": [],
   "source": [
    "view_confusion(target_predicted, target_test)"
   ]
  },
  {
   "cell_type": "markdown",
   "id": "4e3f4d1e",
   "metadata": {},
   "source": [
    "# 5. Decision Classifier Model"
   ]
  },
  {
   "cell_type": "code",
   "execution_count": null,
   "id": "64773e7f",
   "metadata": {},
   "outputs": [],
   "source": [
    "ds = DecisionTreeClassifier()"
   ]
  },
  {
   "cell_type": "code",
   "execution_count": null,
   "id": "21aa65e4",
   "metadata": {},
   "outputs": [],
   "source": [
    "ds.fit(data_train , target_train)"
   ]
  },
  {
   "cell_type": "code",
   "execution_count": null,
   "id": "b6345035",
   "metadata": {},
   "outputs": [],
   "source": [
    "model_trained.append(ds)"
   ]
  },
  {
   "cell_type": "code",
   "execution_count": null,
   "id": "282868fd",
   "metadata": {},
   "outputs": [],
   "source": [
    "target_predicted = sv.predict(data_test)"
   ]
  },
  {
   "cell_type": "code",
   "execution_count": null,
   "id": "b351ec54",
   "metadata": {},
   "outputs": [],
   "source": [
    "view_confusion(target_predicted, target_test)"
   ]
  },
  {
   "cell_type": "markdown",
   "id": "07940a5b",
   "metadata": {},
   "source": [
    "# Model Comparision"
   ]
  },
  {
   "cell_type": "code",
   "execution_count": null,
   "id": "2e305567",
   "metadata": {},
   "outputs": [],
   "source": [
    "metric = f1_score"
   ]
  },
  {
   "cell_type": "code",
   "execution_count": null,
   "id": "7ab7e08d",
   "metadata": {},
   "outputs": [],
   "source": [
    "info = [ { \"Model_Name\" : model.__str__(),\n",
    "         f\"metric ( {metric.__name__} ) \": metric(\n",
    "             y_true = target_test,\n",
    "             y_pred = model.predict(data_test),\n",
    "             pos_label = 1),  # pos label shows to which prediction value it is pointing\n",
    "             } for model in model_trained ]"
   ]
  },
  {
   "cell_type": "code",
   "execution_count": null,
   "id": "e9fbda2f",
   "metadata": {},
   "outputs": [],
   "source": [
    "metric = pd.DataFrame(info)"
   ]
  },
  {
   "cell_type": "code",
   "execution_count": null,
   "id": "de16ed75",
   "metadata": {},
   "outputs": [],
   "source": [
    "metric"
   ]
  },
  {
   "cell_type": "markdown",
   "id": "b646f40b",
   "metadata": {},
   "source": [
    "# Model Evaluation"
   ]
  },
  {
   "cell_type": "code",
   "execution_count": null,
   "id": "c5823785",
   "metadata": {},
   "outputs": [],
   "source": [
    "model_params = {\n",
    "    \n",
    "    \"svm\" : {\n",
    "        \"model\" : svm.SVC(gamma=\"auto\"),\n",
    "        \"params\" : {\n",
    "            \"C\" : [200 , 300, 400],\n",
    "            \"kernel\" : [\"linear\", \"rbf\"]\n",
    "        }\n",
    "    },\n",
    "    \"random_forest\" : {\n",
    "        \"model\" : RandomForestClassifier(),\n",
    "        \"params\" : {\n",
    "            \"n_estimators\" : [200 , 300 , 400 ]\n",
    "        }\n",
    "    },\n",
    "    \"logistic_regression\" : {\n",
    "        \"model\" : LogisticRegression(solver=\"liblinear\" , multi_class=\"auto\"),\n",
    "        \"params\" : {\n",
    "            \"C\" : [200, 300 , 400]\n",
    "        }\n",
    "    },\n",
    "    \"decision_tree\" : {\n",
    "        \"model\" : DecisionTreeClassifier(),\n",
    "        \"params\" : {\n",
    "            \"criterion\" : [\"gini\" , \"entropy\"],\n",
    "            \"splitter\" : [\"best\" , \"random\"]\n",
    "        }\n",
    "    },\n",
    "    \"knn classifier\" : {\n",
    "        \"model\" : KNeighborsClassifier(),\n",
    "        \"params\" : {\n",
    "            \"n_neighbors\": [5 , 10 , 20],\n",
    "            \"weights\" : [\"uniform\", \"distance\"], \n",
    "            \"n_jobs\" : [5 , 10 , 20]\n",
    "        }\n",
    "    }\n",
    "}"
   ]
  },
  {
   "cell_type": "code",
   "execution_count": null,
   "id": "81ad753c",
   "metadata": {},
   "outputs": [],
   "source": [
    "scores = []\n",
    "for model_name , mp in model_params.items():\n",
    "    clf = GridSearchCV(mp[\"model\"] , mp[\"params\"] , cv = 5 , return_train_score=False)\n",
    "    clf.fit(data_train , target_train)\n",
    "    scores.append({\n",
    "        \"model\" : model_name,\n",
    "        \"best_score\" : clf.best_score_,\n",
    "        \"best_params\" : clf.best_params_\n",
    "    })"
   ]
  },
  {
   "cell_type": "code",
   "execution_count": null,
   "id": "7003f7ac",
   "metadata": {},
   "outputs": [],
   "source": [
    "scores"
   ]
  },
  {
   "cell_type": "code",
   "execution_count": null,
   "id": "93059b35",
   "metadata": {},
   "outputs": [],
   "source": [
    "df = pd.DataFrame(scores)\n",
    "df"
   ]
  },
  {
   "cell_type": "markdown",
   "id": "b556ab3b",
   "metadata": {},
   "source": [
    "## The above table shows that RandmForest has the most best score which is 85%."
   ]
  },
  {
   "cell_type": "code",
   "execution_count": null,
   "id": "e9b0e098",
   "metadata": {},
   "outputs": [],
   "source": [
    "rm = RandomForestClassifier( n_estimators = 300)"
   ]
  },
  {
   "cell_type": "code",
   "execution_count": null,
   "id": "64ec6951",
   "metadata": {},
   "outputs": [],
   "source": [
    "rm.fit(data_train , target_train)"
   ]
  },
  {
   "cell_type": "code",
   "execution_count": null,
   "id": "99ac6cb8",
   "metadata": {},
   "outputs": [],
   "source": [
    "target_predicted = rm.predict(data_test)"
   ]
  },
  {
   "cell_type": "code",
   "execution_count": null,
   "id": "ef257ca3",
   "metadata": {},
   "outputs": [],
   "source": [
    "print(classification_report(y_true = target_test , y_pred = target_predicted))"
   ]
  },
  {
   "cell_type": "code",
   "execution_count": null,
   "id": "4aec6217",
   "metadata": {},
   "outputs": [],
   "source": [
    "target_predicted = pd.DataFrame(target_predicted)"
   ]
  },
  {
   "cell_type": "code",
   "execution_count": null,
   "id": "5f5f4909",
   "metadata": {},
   "outputs": [],
   "source": [
    "fig, axarr = plt.subplots(1, 2, figsize=(12, 8))\n",
    "\n",
    "target_predicted.plot.hist(ax=axarr[0])\n",
    "target_test.plot.hist(ax=axarr[1])"
   ]
  },
  {
   "cell_type": "markdown",
   "id": "57b1ca42",
   "metadata": {},
   "source": [
    "# Prediction for our Test data"
   ]
  },
  {
   "cell_type": "markdown",
   "id": "59a825f6",
   "metadata": {},
   "source": [
    "### First we are going to scale our test data before predicting"
   ]
  },
  {
   "cell_type": "code",
   "execution_count": null,
   "id": "f9c900cd",
   "metadata": {},
   "outputs": [],
   "source": [
    "test.head()"
   ]
  },
  {
   "cell_type": "code",
   "execution_count": null,
   "id": "e646cfad",
   "metadata": {},
   "outputs": [],
   "source": [
    "prepared_data = preprocessor.fit_transform(test)"
   ]
  },
  {
   "cell_type": "code",
   "execution_count": null,
   "id": "ea5b670b",
   "metadata": {},
   "outputs": [],
   "source": [
    "prepared_data"
   ]
  },
  {
   "cell_type": "code",
   "execution_count": null,
   "id": "d85e53fd",
   "metadata": {},
   "outputs": [],
   "source": [
    "churn_predicted = rm.predict(prepared_data)"
   ]
  },
  {
   "cell_type": "code",
   "execution_count": null,
   "id": "5abcef0b",
   "metadata": {},
   "outputs": [],
   "source": [
    "test[\"Churn\"] = churn_predicted"
   ]
  },
  {
   "cell_type": "code",
   "execution_count": null,
   "id": "db4c6b88",
   "metadata": {},
   "outputs": [],
   "source": [
    "test[\"Churn\"] = test[\"Churn\"].astype(str)\n",
    "test[\"Churn\"] = test[\"Churn\"].apply(lambda x : x.replace(\"1.0\" , \"Yes\"))\n",
    "test[\"Churn\"] = test[\"Churn\"].apply(lambda x : x.replace(\"0.0\" , \"No\"))"
   ]
  },
  {
   "cell_type": "code",
   "execution_count": null,
   "id": "9d893145",
   "metadata": {},
   "outputs": [],
   "source": [
    "test.head()"
   ]
  },
  {
   "cell_type": "markdown",
   "id": "de0e9482",
   "metadata": {},
   "source": [
    "# Prediction visualization"
   ]
  },
  {
   "cell_type": "markdown",
   "id": "17d2d115",
   "metadata": {},
   "source": [
    "## 1 . Payment Method"
   ]
  },
  {
   "cell_type": "code",
   "execution_count": null,
   "id": "4a019f11",
   "metadata": {},
   "outputs": [],
   "source": [
    "payment_churn = test.groupby('PaymentMethod')['Churn'].value_counts(normalize=True).unstack().reset_index()\n",
    "payment_churn.rename(columns={'No': 'No Churn', 'Yes': 'Churn'}, inplace=True)\n",
    "\n",
    "fig = px.bar(payment_churn, x='PaymentMethod', y=['No Churn', 'Churn'], barmode='stack', title='Predicted Precent of customer churn by Payment  Method')\n",
    "fig.show()"
   ]
  },
  {
   "cell_type": "code",
   "execution_count": null,
   "id": "a97dfdd7",
   "metadata": {},
   "outputs": [],
   "source": [
    "## 2. "
   ]
  },
  {
   "cell_type": "code",
   "execution_count": null,
   "id": "80653257",
   "metadata": {},
   "outputs": [],
   "source": [
    "InternetService"
   ]
  },
  {
   "cell_type": "code",
   "execution_count": null,
   "id": "f90f83f5",
   "metadata": {},
   "outputs": [],
   "source": [
    "InternetService = test.groupby('InternetService')['Churn'].value_counts(normalize=True).unstack().reset_index()\n",
    "InternetService.rename(columns={'No': 'No Churn', 'Yes': 'Churn'}, inplace=True)\n",
    "\n",
    "fig = px.bar(InternetService, x='InternetService', y= ['No Churn' , 'Churn'] , barmode='stack', title='Predicted Precent of customer churn by Internet Service')\n",
    "fig.show()"
   ]
  }
 ],
 "metadata": {
  "kernelspec": {
   "display_name": "Python 3 (ipykernel)",
   "language": "python",
   "name": "python3"
  },
  "language_info": {
   "codemirror_mode": {
    "name": "ipython",
    "version": 3
   },
   "file_extension": ".py",
   "mimetype": "text/x-python",
   "name": "python",
   "nbconvert_exporter": "python",
   "pygments_lexer": "ipython3",
   "version": "3.9.13"
  }
 },
 "nbformat": 4,
 "nbformat_minor": 5
}
